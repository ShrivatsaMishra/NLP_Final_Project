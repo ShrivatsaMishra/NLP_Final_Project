{
  "cells": [
    {
      "cell_type": "code",
      "execution_count": null,
      "metadata": {
        "id": "IyOs4mm5vMTJ"
      },
      "outputs": [],
      "source": [
        "import sys\n",
        "# from google.colab import drive\n",
        "# drive.mount('/content/drive')\n",
        "sys.path.append('/content/drive/My Drive/SemEval')"
      ]
    },
    {
      "cell_type": "code",
      "source": [
        "# !pip install sentencepiece\n",
        "\n",
        "# !pip install transformers[torch]"
      ],
      "metadata": {
        "id": "A1eTYhBb5bj7"
      },
      "execution_count": null,
      "outputs": []
    },
    {
      "cell_type": "code",
      "execution_count": null,
      "metadata": {
        "colab": {
          "base_uri": "https://localhost:8080/"
        },
        "id": "kfleyqHNYGpQ",
        "outputId": "cf332983-d5d0-42bb-ed20-d7c110b60867"
      },
      "outputs": [
        {
          "output_type": "stream",
          "name": "stdout",
          "text": [
            "Tue Dec 19 16:12:39 2023       \n",
            "+---------------------------------------------------------------------------------------+\n",
            "| NVIDIA-SMI 535.104.05             Driver Version: 535.104.05   CUDA Version: 12.2     |\n",
            "|-----------------------------------------+----------------------+----------------------+\n",
            "| GPU  Name                 Persistence-M | Bus-Id        Disp.A | Volatile Uncorr. ECC |\n",
            "| Fan  Temp   Perf          Pwr:Usage/Cap |         Memory-Usage | GPU-Util  Compute M. |\n",
            "|                                         |                      |               MIG M. |\n",
            "|=========================================+======================+======================|\n",
            "|   0  Tesla V100-SXM2-16GB           Off | 00000000:00:04.0 Off |                    0 |\n",
            "| N/A   35C    P0              25W / 300W |      0MiB / 16384MiB |      0%      Default |\n",
            "|                                         |                      |                  N/A |\n",
            "+-----------------------------------------+----------------------+----------------------+\n",
            "                                                                                         \n",
            "+---------------------------------------------------------------------------------------+\n",
            "| Processes:                                                                            |\n",
            "|  GPU   GI   CI        PID   Type   Process name                            GPU Memory |\n",
            "|        ID   ID                                                             Usage      |\n",
            "|=======================================================================================|\n",
            "|  No running processes found                                                           |\n",
            "+---------------------------------------------------------------------------------------+\n"
          ]
        }
      ],
      "source": [
        "!nvidia-smi"
      ]
    },
    {
      "cell_type": "code",
      "execution_count": null,
      "metadata": {
        "id": "qSa5kOQOxZLL"
      },
      "outputs": [],
      "source": [
        "# from helpers import load_data, get_text_len\n",
        "from tqdm import tqdm\n",
        "from torch.utils.data import DataLoader, Dataset\n",
        "import matplotlib.pyplot as plt\n",
        "import torch\n",
        "import torch.optim as optim\n",
        "from tqdm import tqdm\n",
        "import json\n",
        "from torch.optim import AdamW\n",
        "from sklearn.metrics import f1_score\n",
        "import numpy as np\n",
        "import pandas as pd"
      ]
    },
    {
      "cell_type": "code",
      "execution_count": null,
      "metadata": {
        "id": "SIBs6Y4CiLeb"
      },
      "outputs": [],
      "source": []
    },
    {
      "cell_type": "code",
      "execution_count": null,
      "metadata": {
        "id": "cITOKuA93jFo"
      },
      "outputs": [],
      "source": [
        "# Load model directly\n",
        "from transformers import XLNetForSequenceClassification, XLNetTokenizer, DistilBertTokenizer, DistilBertForSequenceClassification\n",
        "\n",
        "# #XL NET MODEL\n",
        "xl_net_model = XLNetForSequenceClassification.from_pretrained('xlnet-base-cased', num_labels=2)\n",
        "xl_net_tokenizer =  XLNetTokenizer.from_pretrained('xlnet-base-cased')\n"
      ]
    },
    {
      "cell_type": "code",
      "execution_count": null,
      "metadata": {
        "id": "F_a9Nmwev1Ao"
      },
      "outputs": [],
      "source": [
        "train_fp = '/content/drive/My Drive/SemEval/data/train_monolingual.jsonl'\n",
        "dev_fp = '/content/drive/My Drive/SemEval/data/dev_monolingual.jsonl'"
      ]
    },
    {
      "cell_type": "code",
      "execution_count": null,
      "metadata": {
        "id": "Ap1c1e1QfAj2"
      },
      "outputs": [],
      "source": [
        "\n",
        "def load_data(file_path):\n",
        "  texts = []\n",
        "  labels = []\n",
        "  with open(file_path, 'r') as f:\n",
        "      for line in f:\n",
        "        data = json.loads(line)\n",
        "        texts.append(data['text'])\n",
        "        labels.append(data['label'])\n",
        "  return texts, labels\n",
        "\n",
        "\n"
      ]
    },
    {
      "cell_type": "code",
      "execution_count": null,
      "metadata": {
        "id": "an77Q9pPi_QZ"
      },
      "outputs": [],
      "source": [
        "train_texts, train_labels = load_data(train_fp)\n",
        "dev_texts, dev_labels = load_data(dev_fp)"
      ]
    },
    {
      "cell_type": "code",
      "execution_count": null,
      "metadata": {
        "id": "MOE-eTKI0niH"
      },
      "outputs": [],
      "source": [
        "# print(len(train_texts))\n",
        "# print(len(validation_texts))"
      ]
    },
    {
      "cell_type": "code",
      "execution_count": null,
      "metadata": {
        "id": "wSGjA_4PBxRd"
      },
      "outputs": [],
      "source": [
        "from sklearn.model_selection import train_test_split\n",
        "\n",
        "X_train, X_test, y_train, y_test = train_test_split(train_texts, train_labels, test_size=0.1, random_state=12, shuffle=True)\n",
        "print(f\"X_train: {len(X_train)}\")\n",
        "print(f\"X_test: {len(X_test)}\")\n",
        "print(f\"y_train: {len(y_train)}\")\n",
        "print(f\"y_test: {len(y_test)}\")"
      ]
    },
    {
      "cell_type": "code",
      "execution_count": null,
      "metadata": {
        "id": "plECSPklfAdl"
      },
      "outputs": [],
      "source": [
        "#Tokenize Data\n",
        "folder = 'test_train_split'\n",
        "xl_train_path = f'/content/drive/My Drive/SemEval/data/{folder}/xl_net_tokenized_train.pth'\n",
        "\n",
        "xl_all_train_path = f'/content/drive/My Drive/SemEval/data/{folder}/xl_net_tokenized_final_train.pth'\n",
        "\n",
        "# xl_net_tokenized_final_train_data = xl_net_tokenizer(train_texts, padding=True, truncation=True, max_length=512, return_tensors='pt')\n",
        "# torch.save(xl_net_tokenized_final_train_data, xl_all_train_path)\n",
        "#XL Net tokenized training data\n",
        "# xl_net_tokenized_train_data = xl_net_tokenizer(X_train, padding=True, truncation=True, max_length=512, return_tensors='pt')\n",
        "# torch.save(xl_net_tokenized_train_data, xl_train_path)\n",
        "\n",
        "# XL net tokenized validation data\n",
        "# xl_net_tokenized_dev_data = xl_net_tokenizer(X_test, padding=True, truncation=True, max_length=512, return_tensors='pt')\n",
        "# torch.save(xl_net_tokenized_dev_data, xl_dev_path)\n"
      ]
    },
    {
      "cell_type": "code",
      "source": [
        "xl_dev_path = f'/content/drive/My Drive/SemEval/data/test_train_split/xl_net_tokenized_final_dev.pth'\n"
      ],
      "metadata": {
        "id": "K-weWEXt_V0Y"
      },
      "execution_count": null,
      "outputs": []
    },
    {
      "cell_type": "code",
      "source": [
        "#loading data for later training\n",
        "\n",
        "xl_net_tokenized_train_data = torch.load(xl_train_path)\n",
        "xl_net_tokenized_final_train_data = torch.load(xl_all_train_path)\n",
        "xl_net_tokenized_dev_data = torch.load(xl_dev_path)\n",
        "print(\"done\")\n"
      ],
      "metadata": {
        "id": "RJHB4eMw_FaY"
      },
      "execution_count": null,
      "outputs": []
    },
    {
      "cell_type": "markdown",
      "source": [],
      "metadata": {
        "id": "mxRKzd6hgZgR"
      }
    },
    {
      "cell_type": "code",
      "execution_count": null,
      "metadata": {
        "id": "2Xxnkz0bfAQ2"
      },
      "outputs": [],
      "source": [
        "class TextDataset(Dataset):\n",
        "    def __init__(self, encodings, labels):\n",
        "        self.encodings = encodings\n",
        "        self.labels = labels\n",
        "\n",
        "    def __getitem__(self, idx):\n",
        "      item = {key: val[idx] for key, val in self.encodings.items()}\n",
        "      item['labels'] = torch.tensor(self.labels[idx])\n",
        "      return item\n",
        "\n",
        "    def __len__(self):\n",
        "        return len(self.labels)"
      ]
    },
    {
      "cell_type": "code",
      "source": [
        "xl_net_train_dataset = TextDataset(xl_net_tokenized_train_data, y_train)\n",
        "xl_net_final_train_dataset = TextDataset(xl_net_tokenized_final_train_data, train_labels)\n",
        "# xl_net_validation_dataset = TextDataset(xl_net_tokenized_validation_data, y_test)"
      ],
      "metadata": {
        "id": "E70OkxyH1vsp"
      },
      "execution_count": null,
      "outputs": []
    },
    {
      "cell_type": "code",
      "source": [
        "xl_net_dev_dataset = TextDataset(xl_net_tokenized_dev_data,dev_labels)"
      ],
      "metadata": {
        "id": "NSWyysGaAZDN"
      },
      "execution_count": null,
      "outputs": []
    },
    {
      "cell_type": "code",
      "source": [
        "model_name = 'xl_net'\n",
        "version = 'final_training_2'\n",
        "output_directory = f'/content/drive/My Drive/SemEval/trainer_models/{model_name}/{version}/results/'\n",
        "logging_directory = f'/content/drive/My Drive/SemEval/trainer_models/{model_name}/{version}/logs/'"
      ],
      "metadata": {
        "id": "td1CEvL02ziu"
      },
      "execution_count": null,
      "outputs": []
    },
    {
      "cell_type": "code",
      "source": [
        "\n",
        "\n",
        "\n",
        "current_model = xl_net_model\n",
        "current_train_data = xl_net_train_dataset\n",
        "current_validation_data = xl_net_dev_dataset\n"
      ],
      "metadata": {
        "id": "3Tqu5kNEkqtE"
      },
      "execution_count": null,
      "outputs": []
    },
    {
      "cell_type": "code",
      "source": [
        "from sklearn.metrics import accuracy_score, precision_recall_fscore_support\n",
        "import logging\n",
        "import csv\n",
        "import os\n",
        "\n",
        "def compute_metrics(p):\n",
        "    preds = np.argmax(p.predictions, axis=1)\n",
        "    labels = p.label_ids\n",
        "    precision, recall, f1, _ = precision_recall_fscore_support(labels, preds, average='binary')\n",
        "    acc = accuracy_score(labels, preds)\n",
        "    return {\n",
        "        'accuracy': acc,\n",
        "        'f1': f1,\n",
        "        'precision': precision,\n",
        "        'recall': recall\n",
        "    }\n",
        "\n"
      ],
      "metadata": {
        "id": "SkZB885RLeJs"
      },
      "execution_count": null,
      "outputs": []
    },
    {
      "cell_type": "code",
      "source": [
        "from transformers import TrainerCallback\n",
        "\n",
        "\n",
        "class LoggingCallback(TrainerCallback):\n",
        "    def __init__(self, train_log_file, eval_log_file):\n",
        "        self.train_log_file = train_log_file\n",
        "        self.eval_log_file = eval_log_file\n",
        "\n",
        "    def on_log(self, args, state, control, logs=None, **kwargs):\n",
        "        if state.is_local_process_zero and 'loss' in logs:\n",
        "            with open(self.train_log_file, 'a', newline='') as file:\n",
        "                writer = csv.writer(file)\n",
        "                writer.writerow([state.global_step, logs['loss']])\n",
        "\n",
        "    def on_evaluate(self, args, state, control, logs=None, **kwargs):\n",
        "        if state.is_local_process_zero and logs is not None and 'eval_loss' in logs:\n",
        "            with open(self.eval_log_file, 'a', newline='') as file:\n",
        "                writer = csv.writer(file)\n",
        "                writer.writerow([state.global_step, logs['eval_loss']])\n"
      ],
      "metadata": {
        "id": "LpUQ6DGTfiVN"
      },
      "execution_count": null,
      "outputs": []
    },
    {
      "cell_type": "code",
      "source": [
        "train_log_file = f'{logging_directory}training_loss.csv'\n",
        "eval_log_file = f'{logging_directory}eval_loss.csv'"
      ],
      "metadata": {
        "id": "LHWYG5MU2tgk"
      },
      "execution_count": null,
      "outputs": []
    },
    {
      "cell_type": "code",
      "source": [
        "from transformers import Trainer, TrainingArguments, EarlyStoppingCallback\n",
        "\n",
        "\n",
        "\n",
        "logging_callback = LoggingCallback(train_log_file, eval_log_file)\n",
        "early_stopping_callback = EarlyStoppingCallback(early_stopping_patience=10)\n",
        "\n",
        "training_args = TrainingArguments(\n",
        "    output_dir=output_directory,\n",
        "    num_train_epochs=1,\n",
        "    per_device_train_batch_size=48,\n",
        "    per_device_eval_batch_size=64,\n",
        "    warmup_steps=500,\n",
        "    weight_decay=0.01,\n",
        "    logging_dir=logging_directory,\n",
        "    logging_steps=100,\n",
        "    evaluation_strategy=\"steps\",\n",
        "    eval_steps=100,\n",
        "    learning_rate=1e-5,\n",
        "    load_best_model_at_end=True,\n",
        "    metric_for_best_model=\"f1\",\n",
        "    greater_is_better=True,\n",
        "    push_to_hub=False\n",
        ")\n",
        "\n",
        "trainer = Trainer(\n",
        "    model=current_model,\n",
        "    args=training_args,\n",
        "    train_dataset=current_train_data,\n",
        "    eval_dataset=current_validation_data,\n",
        "    compute_metrics=compute_metrics,\n",
        "    callbacks=[logging_callback, early_stopping_callback]\n",
        ")\n",
        "\n",
        "trainer.train()"
      ],
      "metadata": {
        "id": "Bz6XrypUdh_X",
        "colab": {
          "base_uri": "https://localhost:8080/",
          "height": 389
        },
        "outputId": "4e052875-f299-42e8-aa46-91af4b694d5d"
      },
      "execution_count": null,
      "outputs": [
        {
          "data": {
            "text/html": [
              "\n",
              "    <div>\n",
              "      \n",
              "      <progress value='1050' max='2246' style='width:300px; height:20px; vertical-align: middle;'></progress>\n",
              "      [1050/2246 56:36 < 1:04:35, 0.31 it/s, Epoch 0.47/1]\n",
              "    </div>\n",
              "    <table border=\"1\" class=\"dataframe\">\n",
              "  <thead>\n",
              " <tr style=\"text-align: left;\">\n",
              "      <th>Step</th>\n",
              "      <th>Training Loss</th>\n",
              "      <th>Validation Loss</th>\n",
              "      <th>Accuracy</th>\n",
              "      <th>F1</th>\n",
              "      <th>Precision</th>\n",
              "      <th>Recall</th>\n",
              "    </tr>\n",
              "  </thead>\n",
              "  <tbody>\n",
              "    <tr>\n",
              "      <td>100</td>\n",
              "      <td>0.665800</td>\n",
              "      <td>0.688375</td>\n",
              "      <td>0.549800</td>\n",
              "      <td>0.471472</td>\n",
              "      <td>0.570779</td>\n",
              "      <td>0.401600</td>\n",
              "    </tr>\n",
              "    <tr>\n",
              "      <td>200</td>\n",
              "      <td>0.467700</td>\n",
              "      <td>0.726737</td>\n",
              "      <td>0.615800</td>\n",
              "      <td>0.572636</td>\n",
              "      <td>0.645113</td>\n",
              "      <td>0.514800</td>\n",
              "    </tr>\n",
              "    <tr>\n",
              "      <td>300</td>\n",
              "      <td>0.277100</td>\n",
              "      <td>0.633250</td>\n",
              "      <td>0.746200</td>\n",
              "      <td>0.767880</td>\n",
              "      <td>0.707449</td>\n",
              "      <td>0.839600</td>\n",
              "    </tr>\n",
              "    <tr>\n",
              "      <td>400</td>\n",
              "      <td>0.173600</td>\n",
              "      <td>0.749473</td>\n",
              "      <td>0.758400</td>\n",
              "      <td>0.797111</td>\n",
              "      <td>0.687030</td>\n",
              "      <td>0.949200</td>\n",
              "    </tr>\n",
              "    <tr>\n",
              "      <td>500</td>\n",
              "      <td>0.165700</td>\n",
              "      <td>0.579474</td>\n",
              "      <td>0.779400</td>\n",
              "      <td>0.807269</td>\n",
              "      <td>0.716724</td>\n",
              "      <td>0.924000</td>\n",
              "    </tr>\n",
              "    <tr>\n",
              "      <td>600</td>\n",
              "      <td>0.139400</td>\n",
              "      <td>0.550300</td>\n",
              "      <td>0.789600</td>\n",
              "      <td>0.782555</td>\n",
              "      <td>0.809666</td>\n",
              "      <td>0.757200</td>\n",
              "    </tr>\n",
              "    <tr>\n",
              "      <td>700</td>\n",
              "      <td>0.127300</td>\n",
              "      <td>0.807563</td>\n",
              "      <td>0.763600</td>\n",
              "      <td>0.786257</td>\n",
              "      <td>0.717492</td>\n",
              "      <td>0.869600</td>\n",
              "    </tr>\n",
              "    <tr>\n",
              "      <td>800</td>\n",
              "      <td>0.122600</td>\n",
              "      <td>0.648468</td>\n",
              "      <td>0.773400</td>\n",
              "      <td>0.802716</td>\n",
              "      <td>0.710762</td>\n",
              "      <td>0.922000</td>\n",
              "    </tr>\n",
              "    <tr>\n",
              "      <td>900</td>\n",
              "      <td>0.110200</td>\n",
              "      <td>0.542831</td>\n",
              "      <td>0.816800</td>\n",
              "      <td>0.811056</td>\n",
              "      <td>0.837308</td>\n",
              "      <td>0.786400</td>\n",
              "    </tr>\n",
              "    <tr>\n",
              "      <td>1000</td>\n",
              "      <td>0.098500</td>\n",
              "      <td>0.618500</td>\n",
              "      <td>0.796600</td>\n",
              "      <td>0.819713</td>\n",
              "      <td>0.736071</td>\n",
              "      <td>0.924800</td>\n",
              "    </tr>\n",
              "  </tbody>\n",
              "</table><p>"
            ],
            "text/plain": [
              "<IPython.core.display.HTML object>"
            ]
          },
          "metadata": {},
          "output_type": "display_data"
        }
      ]
    },
    {
      "cell_type": "code",
      "source": [
        "trainer.evaluate()"
      ],
      "metadata": {
        "id": "EwAornSaiTeo"
      },
      "execution_count": null,
      "outputs": []
    },
    {
      "cell_type": "code",
      "source": [
        "current_model.save_pretrained(output_directory + 'final_model')\n",
        "current_tokenizer.save_pretrained(output_directory + 'final_model')"
      ],
      "metadata": {
        "id": "n28ufR9DmSkJ"
      },
      "execution_count": null,
      "outputs": []
    },
    {
      "cell_type": "code",
      "source": [
        "training_loss_data = pd.read_csv(train_log_file)\n",
        "\n",
        "training_loss_data.columns = ['Iteration', 'Loss']\n",
        "\n",
        "plt.figure(figsize=(10, 6))\n",
        "plt.plot(training_loss_data['Iteration'], training_loss_data['Loss'], marker='o', color='b')\n",
        "plt.title('Training Loss Over Iterations')\n",
        "plt.xlabel('Iteration')\n",
        "plt.ylabel('Loss')\n",
        "plt.grid(True)\n",
        "plt.show()"
      ],
      "metadata": {
        "id": "BO29EReLFMi8",
        "colab": {
          "base_uri": "https://localhost:8080/",
          "height": 564
        },
        "outputId": "a8fc1128-1f10-4d26-f6a5-8ef26f44451b"
      },
      "execution_count": null,
      "outputs": [
        {
          "output_type": "display_data",
          "data": {
            "text/plain": [
              "<Figure size 1000x600 with 1 Axes>"
            ],
            "image/png": "[encoded data removed]"
          },
          "metadata": {}
        }
      ]
    },
    {
      "cell_type": "code",
      "source": [
        "train_log_file"
      ],
      "metadata": {
        "id": "Nc_xYnXxop0A"
      },
      "execution_count": null,
      "outputs": []
    },
    {
      "cell_type": "markdown",
      "source": [
        "# Training f1, accuracy, precision and recall"
      ],
      "metadata": {
        "id": "Q-HrQVCnFVi1"
      }
    },
    {
      "cell_type": "code",
      "source": [
        "test_loss_data = pd.read_csv(eval_log_file)\n",
        "\n",
        "test_loss_data.columns = ['Iteration', 'Loss']\n",
        "\n",
        "plt.figure(figsize=(10, 6))\n",
        "plt.plot(test_loss_data['Iteration'], test_loss_data['Loss'], marker='o', color='b')\n",
        "plt.title('Eval Loss Over Iterations')\n",
        "plt.xlabel('Iteration')\n",
        "plt.ylabel('Loss')\n",
        "plt.grid(True)\n",
        "plt.show()"
      ],
      "metadata": {
        "id": "39yY19R4CKt1"
      },
      "execution_count": null,
      "outputs": []
    },
    {
      "cell_type": "code",
      "source": [
        "# current_model.save_pretrained(output_directory + 'final_model')\n",
        "# current_tokenizer.save_pretrained(output_directory + 'final_model')"
      ],
      "metadata": {
        "id": "VglxAuLicdn8"
      },
      "execution_count": null,
      "outputs": []
    },
    {
      "cell_type": "code",
      "execution_count": null,
      "metadata": {
        "id": "M3eqDOK1n4B8"
      },
      "outputs": [],
      "source": [
        "predictions_output = trainer.predict(xl_net_dev_dataset)\n"
      ]
    },
    {
      "cell_type": "code",
      "execution_count": null,
      "metadata": {
        "id": "-kb5DSqM4ZWZ"
      },
      "outputs": [],
      "source": [
        "predictions = np.argmax(predictions_output.predictions, axis=1)\n"
      ]
    },
    {
      "cell_type": "markdown",
      "source": [
        "# Dev data set score"
      ],
      "metadata": {
        "id": "BTI3fCdPFAAJ"
      }
    },
    {
      "cell_type": "code",
      "source": [
        "precision, recall, f1, _ = precision_recall_fscore_support(dev_labels, predictions, average='binary')\n",
        "acc = accuracy_score(dev_labels, predictions)\n",
        "\n",
        "print(f'Accuracy: {acc}')\n",
        "print(f'Precision: {precision}')\n",
        "print(f'Recall: {recall}')\n",
        "print(f'F1: {f1}')"
      ],
      "metadata": {
        "id": "H2GxCwJXCZrE"
      },
      "execution_count": null,
      "outputs": []
    },
    {
      "cell_type": "markdown",
      "source": [
        "Accuracy: 0.8048\n",
        "\n",
        "Precision: 0.7506578947368421\n",
        "\n",
        "Recall: 0.9128\n",
        "\n",
        "F1: 0.823826714801444"
      ],
      "metadata": {
        "id": "uXlT9Wxg3sPh"
      }
    },
    {
      "cell_type": "code",
      "source": [
        "ids = range(0, len(dev_labels))\n",
        "\n",
        "# Now create the DataFrame\n",
        "pred_df = pd.DataFrame({'id': ids, 'label': dev_labels, 'predictions': predictions})"
      ],
      "metadata": {
        "id": "8dMcNJwBpuXJ"
      },
      "execution_count": null,
      "outputs": []
    },
    {
      "cell_type": "code",
      "source": [],
      "metadata": {
        "id": "75ylUc8PqLGp"
      },
      "execution_count": null,
      "outputs": []
    },
    {
      "cell_type": "code",
      "source": [
        "pred_file = logging_directory +'/dev_predictions.csv'\n",
        "pred_df.to_csv(pred_file, index=False)"
      ],
      "metadata": {
        "id": "rvqgf1csEJ23"
      },
      "execution_count": null,
      "outputs": []
    },
    {
      "cell_type": "code",
      "source": [
        "\n",
        "\n",
        "train_predictions_output = trainer.predict(xl_net_final_train_dataset)\n",
        "train_predictions = np.argmax(train_predictions_output.predictions, axis=1)"
      ],
      "metadata": {
        "id": "ElZH23SGtwED"
      },
      "execution_count": null,
      "outputs": []
    },
    {
      "cell_type": "code",
      "source": [
        "ids = range(0, len(train_labels))\n",
        "\n",
        "# Now create the DataFrame\n",
        "pred_df = pd.DataFrame({'id': ids, 'label': train_labels, 'predictions': train_predictions})"
      ],
      "metadata": {
        "id": "34vt3vFMuB7v"
      },
      "execution_count": null,
      "outputs": []
    },
    {
      "cell_type": "code",
      "source": [
        "pred_df"
      ],
      "metadata": {
        "id": "4P2UcbGdu2tE"
      },
      "execution_count": null,
      "outputs": []
    },
    {
      "cell_type": "code",
      "source": [
        "pred_file = logging_directory +'/train_predictions.csv'\n",
        "pred_df.to_csv(pred_file, index=False)"
      ],
      "metadata": {
        "id": "xPgj6f3htX88"
      },
      "execution_count": null,
      "outputs": []
    },
    {
      "cell_type": "code",
      "source": [],
      "metadata": {
        "id": "C-QXv1a21cac"
      },
      "execution_count": null,
      "outputs": []
    },
    {
      "cell_type": "markdown",
      "metadata": {
        "id": "vG9I_pncxogx"
      },
      "source": []
    }
  ],
  "metadata": {
    "accelerator": "GPU",
    "colab": {
      "machine_shape": "hm",
      "provenance": [],
      "gpuType": "V100"
    },
    "kernelspec": {
      "display_name": "Python 3",
      "name": "python3"
    },
    "language_info": {
      "name": "python"
    }
  },
  "nbformat": 4,
  "nbformat_minor": 0
}